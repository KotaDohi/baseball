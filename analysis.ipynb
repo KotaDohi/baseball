{
 "cells": [
  {
   "cell_type": "code",
   "execution_count": 32,
   "metadata": {},
   "outputs": [],
   "source": [
    "import numpy as np\n",
    "import pandas as pd\n",
    "import matplotlib.pyplot as plt\n",
    "%matplotlib inline"
   ]
  },
  {
   "cell_type": "code",
   "execution_count": 33,
   "metadata": {},
   "outputs": [],
   "source": [
    "df = pd.read_csv('test.csv',encoding=\"SHIFT-JIS\")"
   ]
  },
  {
   "cell_type": "code",
   "execution_count": 34,
   "metadata": {},
   "outputs": [
    {
     "data": {
      "text/plain": [
       "5391"
      ]
     },
     "execution_count": 34,
     "metadata": {},
     "output_type": "execute_result"
    }
   ],
   "source": [
    "len(df[(df['牽制先の塁']!=0) & (df['Oカウント']==1)])\n",
    "len(df[(df['牽制先の塁']!=0)])"
   ]
  },
  {
   "cell_type": "code",
   "execution_count": 4,
   "metadata": {},
   "outputs": [
    {
     "data": {
      "image/png": "[encoded data removed]",
      "text/plain": [
       "<Figure size 432x288 with 1 Axes>"
      ]
     },
     "metadata": {},
     "output_type": "display_data"
    }
   ],
   "source": [
    "split_data = []\n",
    "for ball in range(10):\n",
    "    split_data.append(df[df.球種ID==ball])\n",
    "temp = [i[\"球速\"].dropna() for i in split_data]\n",
    "plt.hist(temp, histtype=\"barstacked\", bins=193);"
   ]
  },
  {
   "cell_type": "code",
   "execution_count": 5,
   "metadata": {},
   "outputs": [
    {
     "data": {
      "text/plain": [
       "0"
      ]
     },
     "execution_count": 5,
     "metadata": {},
     "output_type": "execute_result"
    }
   ],
   "source": [
    "score = df[(df.試合ID==1000)&(df.イニング==1)&(df.表裏F==0)]\n",
    "max(score.ビジターチーム点数計)-min(score.ビジターチーム点数計)"
   ]
  },
  {
   "cell_type": "code",
   "execution_count": 6,
   "metadata": {},
   "outputs": [],
   "source": [
    "kensei =  df[(df.試合ID==1000)&(df.イニング==1)&(df.表裏F==1)&(df.牽制先の塁!=0)]"
   ]
  },
  {
   "cell_type": "code",
   "execution_count": 30,
   "metadata": {},
   "outputs": [],
   "source": [
    "game_list = np.arange(1000,1482,1)\n",
    "inning_list = np.arange(1,12,1)\n",
    "side_list = [0,1]\n",
    "kensei = []\n",
    "score = []\n",
    "for i in game_list :\n",
    "    for j in inning_list:\n",
    "        for k in side_list:\n",
    "            data = df[(df.試合ID==i)&(df.イニング==j)&(df.表裏F==k)&(df.牽制先の塁!=0)]\n",
    "            if len(data)!=0:\n",
    "                kensei.append(len(data))\n",
    "                data = df[(df.試合ID==i)&(df.イニング==j)&(df.点数!=0)]\n",
    "                score.append(sum(data.点数.values))"
   ]
  },
  {
   "cell_type": "code",
   "execution_count": 31,
   "metadata": {},
   "outputs": [
    {
     "name": "stdout",
     "output_type": "stream",
     "text": [
      "[[0.04127637]]\n",
      "0.001067858974532987\n"
     ]
    },
    {
     "data": {
      "image/png": "[encoded data removed]",
      "text/plain": [
       "<Figure size 432x288 with 1 Axes>"
      ]
     },
     "metadata": {},
     "output_type": "display_data"
    }
   ],
   "source": [
    "from sklearn import linear_model\n",
    "clf = linear_model.LinearRegression()\n",
    "kensei = np.array(kensei).reshape(-1,1)\n",
    "score = np.array(score).reshape(-1,1)\n",
    "clf.fit(kensei, score)\n",
    "print(clf.coef_)\n",
    "p = clf.predict(kensei)\n",
    "\n",
    "plt.scatter(kensei, score)\n",
    "plt.plot(kensei,p)\n",
    "\n",
    "print(clf.score(kensei, score))"
   ]
  },
  {
   "cell_type": "code",
   "execution_count": 9,
   "metadata": {},
   "outputs": [
    {
     "data": {
      "text/html": [
       "<div>\n",
       "<style scoped>\n",
       "    .dataframe tbody tr th:only-of-type {\n",
       "        vertical-align: middle;\n",
       "    }\n",
       "\n",
       "    .dataframe tbody tr th {\n",
       "        vertical-align: top;\n",
       "    }\n",
       "\n",
       "    .dataframe thead th {\n",
       "        text-align: right;\n",
       "    }\n",
       "</style>\n",
       "<table border=\"1\" class=\"dataframe\">\n",
       "  <thead>\n",
       "    <tr style=\"text-align: right;\">\n",
       "      <th></th>\n",
       "      <th>0</th>\n",
       "      <th>1</th>\n",
       "      <th>2</th>\n",
       "      <th>3</th>\n",
       "      <th>4</th>\n",
       "      <th>5</th>\n",
       "      <th>6</th>\n",
       "      <th>7</th>\n",
       "      <th>8</th>\n",
       "      <th>9</th>\n",
       "    </tr>\n",
       "  </thead>\n",
       "  <tbody>\n",
       "    <tr>\n",
       "      <th>0</th>\n",
       "      <td>0.708006</td>\n",
       "      <td>0.4848</td>\n",
       "      <td>0.441370</td>\n",
       "      <td>0.447236</td>\n",
       "      <td>0.477528</td>\n",
       "      <td>0.467532</td>\n",
       "      <td>0.382353</td>\n",
       "      <td>0.500</td>\n",
       "      <td>0.25</td>\n",
       "      <td>0.5</td>\n",
       "    </tr>\n",
       "    <tr>\n",
       "      <th>1</th>\n",
       "      <td>0.147960</td>\n",
       "      <td>0.2216</td>\n",
       "      <td>0.234519</td>\n",
       "      <td>0.203518</td>\n",
       "      <td>0.264045</td>\n",
       "      <td>0.220779</td>\n",
       "      <td>0.235294</td>\n",
       "      <td>0.125</td>\n",
       "      <td>0.25</td>\n",
       "      <td>0.0</td>\n",
       "    </tr>\n",
       "    <tr>\n",
       "      <th>2</th>\n",
       "      <td>0.077781</td>\n",
       "      <td>0.1424</td>\n",
       "      <td>0.160738</td>\n",
       "      <td>0.163317</td>\n",
       "      <td>0.101124</td>\n",
       "      <td>0.181818</td>\n",
       "      <td>0.147059</td>\n",
       "      <td>0.250</td>\n",
       "      <td>0.25</td>\n",
       "      <td>0.5</td>\n",
       "    </tr>\n",
       "    <tr>\n",
       "      <th>3</th>\n",
       "      <td>0.032810</td>\n",
       "      <td>0.0808</td>\n",
       "      <td>0.073781</td>\n",
       "      <td>0.080402</td>\n",
       "      <td>0.084270</td>\n",
       "      <td>0.025974</td>\n",
       "      <td>0.088235</td>\n",
       "      <td>0.125</td>\n",
       "      <td>0.25</td>\n",
       "      <td>0.0</td>\n",
       "    </tr>\n",
       "    <tr>\n",
       "      <th>4</th>\n",
       "      <td>0.017608</td>\n",
       "      <td>0.0376</td>\n",
       "      <td>0.039526</td>\n",
       "      <td>0.047739</td>\n",
       "      <td>0.028090</td>\n",
       "      <td>0.051948</td>\n",
       "      <td>0.058824</td>\n",
       "      <td>0.000</td>\n",
       "      <td>0.00</td>\n",
       "      <td>0.0</td>\n",
       "    </tr>\n",
       "    <tr>\n",
       "      <th>5</th>\n",
       "      <td>0.009628</td>\n",
       "      <td>0.0192</td>\n",
       "      <td>0.018445</td>\n",
       "      <td>0.042714</td>\n",
       "      <td>0.022472</td>\n",
       "      <td>0.051948</td>\n",
       "      <td>0.029412</td>\n",
       "      <td>0.000</td>\n",
       "      <td>0.00</td>\n",
       "      <td>0.0</td>\n",
       "    </tr>\n",
       "    <tr>\n",
       "      <th>6</th>\n",
       "      <td>0.003420</td>\n",
       "      <td>0.0072</td>\n",
       "      <td>0.013175</td>\n",
       "      <td>0.012563</td>\n",
       "      <td>0.016854</td>\n",
       "      <td>0.000000</td>\n",
       "      <td>0.058824</td>\n",
       "      <td>0.000</td>\n",
       "      <td>0.00</td>\n",
       "      <td>0.0</td>\n",
       "    </tr>\n",
       "    <tr>\n",
       "      <th>7</th>\n",
       "      <td>0.001393</td>\n",
       "      <td>0.0048</td>\n",
       "      <td>0.010540</td>\n",
       "      <td>0.002513</td>\n",
       "      <td>0.000000</td>\n",
       "      <td>0.000000</td>\n",
       "      <td>0.000000</td>\n",
       "      <td>0.000</td>\n",
       "      <td>0.00</td>\n",
       "      <td>0.0</td>\n",
       "    </tr>\n",
       "    <tr>\n",
       "      <th>8</th>\n",
       "      <td>0.000760</td>\n",
       "      <td>0.0008</td>\n",
       "      <td>0.003953</td>\n",
       "      <td>0.000000</td>\n",
       "      <td>0.000000</td>\n",
       "      <td>0.000000</td>\n",
       "      <td>0.000000</td>\n",
       "      <td>0.000</td>\n",
       "      <td>0.00</td>\n",
       "      <td>0.0</td>\n",
       "    </tr>\n",
       "    <tr>\n",
       "      <th>9</th>\n",
       "      <td>0.000127</td>\n",
       "      <td>0.0008</td>\n",
       "      <td>0.000000</td>\n",
       "      <td>0.000000</td>\n",
       "      <td>0.000000</td>\n",
       "      <td>0.000000</td>\n",
       "      <td>0.000000</td>\n",
       "      <td>0.000</td>\n",
       "      <td>0.00</td>\n",
       "      <td>0.0</td>\n",
       "    </tr>\n",
       "    <tr>\n",
       "      <th>10</th>\n",
       "      <td>0.000253</td>\n",
       "      <td>0.0000</td>\n",
       "      <td>0.002635</td>\n",
       "      <td>0.000000</td>\n",
       "      <td>0.000000</td>\n",
       "      <td>0.000000</td>\n",
       "      <td>0.000000</td>\n",
       "      <td>0.000</td>\n",
       "      <td>0.00</td>\n",
       "      <td>0.0</td>\n",
       "    </tr>\n",
       "    <tr>\n",
       "      <th>11</th>\n",
       "      <td>0.000253</td>\n",
       "      <td>0.0000</td>\n",
       "      <td>0.000000</td>\n",
       "      <td>0.000000</td>\n",
       "      <td>0.000000</td>\n",
       "      <td>0.000000</td>\n",
       "      <td>0.000000</td>\n",
       "      <td>0.000</td>\n",
       "      <td>0.00</td>\n",
       "      <td>0.0</td>\n",
       "    </tr>\n",
       "    <tr>\n",
       "      <th>12</th>\n",
       "      <td>0.000000</td>\n",
       "      <td>0.0000</td>\n",
       "      <td>0.000000</td>\n",
       "      <td>0.000000</td>\n",
       "      <td>0.000000</td>\n",
       "      <td>0.000000</td>\n",
       "      <td>0.000000</td>\n",
       "      <td>0.000</td>\n",
       "      <td>0.00</td>\n",
       "      <td>0.0</td>\n",
       "    </tr>\n",
       "    <tr>\n",
       "      <th>13</th>\n",
       "      <td>0.000000</td>\n",
       "      <td>0.0000</td>\n",
       "      <td>0.000000</td>\n",
       "      <td>0.000000</td>\n",
       "      <td>0.000000</td>\n",
       "      <td>0.000000</td>\n",
       "      <td>0.000000</td>\n",
       "      <td>0.000</td>\n",
       "      <td>0.00</td>\n",
       "      <td>0.0</td>\n",
       "    </tr>\n",
       "    <tr>\n",
       "      <th>14</th>\n",
       "      <td>0.000000</td>\n",
       "      <td>0.0000</td>\n",
       "      <td>0.001318</td>\n",
       "      <td>0.000000</td>\n",
       "      <td>0.005618</td>\n",
       "      <td>0.000000</td>\n",
       "      <td>0.000000</td>\n",
       "      <td>0.000</td>\n",
       "      <td>0.00</td>\n",
       "      <td>0.0</td>\n",
       "    </tr>\n",
       "  </tbody>\n",
       "</table>\n",
       "</div>"
      ],
      "text/plain": [
       "           0       1         2         3         4         5         6      7  \\\n",
       "0   0.708006  0.4848  0.441370  0.447236  0.477528  0.467532  0.382353  0.500   \n",
       "1   0.147960  0.2216  0.234519  0.203518  0.264045  0.220779  0.235294  0.125   \n",
       "2   0.077781  0.1424  0.160738  0.163317  0.101124  0.181818  0.147059  0.250   \n",
       "3   0.032810  0.0808  0.073781  0.080402  0.084270  0.025974  0.088235  0.125   \n",
       "4   0.017608  0.0376  0.039526  0.047739  0.028090  0.051948  0.058824  0.000   \n",
       "5   0.009628  0.0192  0.018445  0.042714  0.022472  0.051948  0.029412  0.000   \n",
       "6   0.003420  0.0072  0.013175  0.012563  0.016854  0.000000  0.058824  0.000   \n",
       "7   0.001393  0.0048  0.010540  0.002513  0.000000  0.000000  0.000000  0.000   \n",
       "8   0.000760  0.0008  0.003953  0.000000  0.000000  0.000000  0.000000  0.000   \n",
       "9   0.000127  0.0008  0.000000  0.000000  0.000000  0.000000  0.000000  0.000   \n",
       "10  0.000253  0.0000  0.002635  0.000000  0.000000  0.000000  0.000000  0.000   \n",
       "11  0.000253  0.0000  0.000000  0.000000  0.000000  0.000000  0.000000  0.000   \n",
       "12  0.000000  0.0000  0.000000  0.000000  0.000000  0.000000  0.000000  0.000   \n",
       "13  0.000000  0.0000  0.000000  0.000000  0.000000  0.000000  0.000000  0.000   \n",
       "14  0.000000  0.0000  0.001318  0.000000  0.005618  0.000000  0.000000  0.000   \n",
       "\n",
       "       8    9  \n",
       "0   0.25  0.5  \n",
       "1   0.25  0.0  \n",
       "2   0.25  0.5  \n",
       "3   0.25  0.0  \n",
       "4   0.00  0.0  \n",
       "5   0.00  0.0  \n",
       "6   0.00  0.0  \n",
       "7   0.00  0.0  \n",
       "8   0.00  0.0  \n",
       "9   0.00  0.0  \n",
       "10  0.00  0.0  \n",
       "11  0.00  0.0  \n",
       "12  0.00  0.0  \n",
       "13  0.00  0.0  \n",
       "14  0.00  0.0  "
      ]
     },
     "execution_count": 9,
     "metadata": {},
     "output_type": "execute_result"
    }
   ],
   "source": [
    "score_max = max(score)\n",
    "kensei_max = max(kensei)\n",
    "kensei_matrix = np.zeros([score_max+1,kensei_max+1],dtype = 'int32')\n",
    "for i,j in zip(kensei,score):\n",
    "    kensei_matrix[j,i] +=1\n",
    "\n",
    "kensei_matrix_norm = np.zeros([len(kensei_matrix),len(kensei_matrix.T)])\n",
    "for i in range(len(kensei_matrix.T)):\n",
    "    kensei_matrix_norm[:,i] = kensei_matrix[:,i]/np.sum(kensei_matrix[:,i])\n",
    "df_kensei_norm = pd.DataFrame(kensei_matrix_norm)\n",
    "df_kensei_norm"
   ]
  },
  {
   "cell_type": "code",
   "execution_count": null,
   "metadata": {},
   "outputs": [],
   "source": []
  }
 ],
 "metadata": {
  "kernelspec": {
   "display_name": "Python 3",
   "language": "python",
   "name": "python3"
  },
  "language_info": {
   "codemirror_mode": {
    "name": "ipython",
    "version": 3
   },
   "file_extension": ".py",
   "mimetype": "text/x-python",
   "name": "python",
   "nbconvert_exporter": "python",
   "pygments_lexer": "ipython3",
   "version": "3.6.6"
  }
 },
 "nbformat": 4,
 "nbformat_minor": 2
}
