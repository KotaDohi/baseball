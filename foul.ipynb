{
 "cells": [
  {
   "cell_type": "code",
   "execution_count": 1,
   "metadata": {},
   "outputs": [],
   "source": [
    "import numpy as np\n",
    "import pandas as pd\n",
    "import matplotlib.pyplot as plt\n",
    "%matplotlib inline"
   ]
  },
  {
   "cell_type": "code",
   "execution_count": 2,
   "metadata": {},
   "outputs": [],
   "source": [
    "df = pd.read_csv('test.csv',encoding=\"SHIFT-JIS\")"
   ]
  },
  {
   "cell_type": "code",
   "execution_count": 6,
   "metadata": {},
   "outputs": [],
   "source": [
    "kensei =  df[(df.試合ID==1000)&(df.イニング==1)&(df.表裏F==1)&(df.牽制先の塁!=0)]"
   ]
  },
  {
   "cell_type": "code",
   "execution_count": 76,
   "metadata": {},
   "outputs": [],
   "source": [
    "game_list = np.arange(1000,1482,1)\n",
    "inning_list = np.arange(1,12,1)\n",
    "side_list = [0,1]\n",
    "X = []\n",
    "Y = []\n",
    "for i in game_list :\n",
    "    for j in inning_list:\n",
    "        for k in side_list:\n",
    "            data1= df[(df.試合ID==i)&(df.イニング==j)&(df.表裏F==k)&(df.一球結果ID==1)]\n",
    "            data2 = df[(df.試合ID==i)&(df.イニング==j)&(df.表裏F==k)&(df.当該打者投球数!=0)]\n",
    "            if len(data2)>0:\n",
    "                counts = max(data2.イニング内打席数C)\n",
    "                X.append(len(data1.点数)/counts)\n",
    "                data3 = df[(df.試合ID==i)&(df.イニング==j)&(df.表裏F==k)&(df.点数!=0)]\n",
    "                Y.append(sum(data3.点数.values))"
   ]
  },
  {
   "cell_type": "code",
   "execution_count": 66,
   "metadata": {},
   "outputs": [
    {
     "name": "stdout",
     "output_type": "stream",
     "text": [
      "[[-0.0713093]]\n",
      "0.001643143456846352\n"
     ]
    },
    {
     "data": {
      "image/png": "[encoded data removed]",
      "text/plain": [
       "<Figure size 432x288 with 1 Axes>"
      ]
     },
     "metadata": {},
     "output_type": "display_data"
    }
   ],
   "source": [
    "from sklearn import linear_model\n",
    "clf = linear_model.LinearRegression()\n",
    "X_ = np.array(X).reshape(-1,1)\n",
    "Y_ = np.array(Y).reshape(-1,1)\n",
    "clf.fit(X_, Y_)\n",
    "print(clf.coef_)\n",
    "p = clf.predict(X_)\n",
    "\n",
    "plt.scatter(X_,Y_)\n",
    "plt.plot(X_,p)\n",
    "\n",
    "print(clf.score(X_,Y_))"
   ]
  },
  {
   "cell_type": "code",
   "execution_count": 74,
   "metadata": {},
   "outputs": [
    {
     "data": {
      "text/html": [
       "<div>\n",
       "<style scoped>\n",
       "    .dataframe tbody tr th:only-of-type {\n",
       "        vertical-align: middle;\n",
       "    }\n",
       "\n",
       "    .dataframe tbody tr th {\n",
       "        vertical-align: top;\n",
       "    }\n",
       "\n",
       "    .dataframe thead th {\n",
       "        text-align: right;\n",
       "    }\n",
       "</style>\n",
       "<table border=\"1\" class=\"dataframe\">\n",
       "  <thead>\n",
       "    <tr style=\"text-align: right;\">\n",
       "      <th></th>\n",
       "      <th>0</th>\n",
       "      <th>1</th>\n",
       "      <th>2</th>\n",
       "      <th>3</th>\n",
       "      <th>4</th>\n",
       "    </tr>\n",
       "  </thead>\n",
       "  <tbody>\n",
       "    <tr>\n",
       "      <th>0</th>\n",
       "      <td>4135</td>\n",
       "      <td>2016</td>\n",
       "      <td>262</td>\n",
       "      <td>24</td>\n",
       "      <td>2</td>\n",
       "    </tr>\n",
       "    <tr>\n",
       "      <th>1</th>\n",
       "      <td>866</td>\n",
       "      <td>313</td>\n",
       "      <td>27</td>\n",
       "      <td>1</td>\n",
       "      <td>0</td>\n",
       "    </tr>\n",
       "    <tr>\n",
       "      <th>2</th>\n",
       "      <td>385</td>\n",
       "      <td>140</td>\n",
       "      <td>7</td>\n",
       "      <td>0</td>\n",
       "      <td>0</td>\n",
       "    </tr>\n",
       "    <tr>\n",
       "      <th>3</th>\n",
       "      <td>178</td>\n",
       "      <td>54</td>\n",
       "      <td>1</td>\n",
       "      <td>0</td>\n",
       "      <td>0</td>\n",
       "    </tr>\n",
       "    <tr>\n",
       "      <th>4</th>\n",
       "      <td>92</td>\n",
       "      <td>18</td>\n",
       "      <td>0</td>\n",
       "      <td>0</td>\n",
       "      <td>0</td>\n",
       "    </tr>\n",
       "    <tr>\n",
       "      <th>5</th>\n",
       "      <td>39</td>\n",
       "      <td>8</td>\n",
       "      <td>0</td>\n",
       "      <td>0</td>\n",
       "      <td>0</td>\n",
       "    </tr>\n",
       "    <tr>\n",
       "      <th>6</th>\n",
       "      <td>11</td>\n",
       "      <td>1</td>\n",
       "      <td>0</td>\n",
       "      <td>0</td>\n",
       "      <td>0</td>\n",
       "    </tr>\n",
       "    <tr>\n",
       "      <th>7</th>\n",
       "      <td>4</td>\n",
       "      <td>3</td>\n",
       "      <td>0</td>\n",
       "      <td>0</td>\n",
       "      <td>0</td>\n",
       "    </tr>\n",
       "    <tr>\n",
       "      <th>8</th>\n",
       "      <td>2</td>\n",
       "      <td>1</td>\n",
       "      <td>0</td>\n",
       "      <td>0</td>\n",
       "      <td>0</td>\n",
       "    </tr>\n",
       "    <tr>\n",
       "      <th>9</th>\n",
       "      <td>1</td>\n",
       "      <td>0</td>\n",
       "      <td>0</td>\n",
       "      <td>0</td>\n",
       "      <td>0</td>\n",
       "    </tr>\n",
       "    <tr>\n",
       "      <th>10</th>\n",
       "      <td>1</td>\n",
       "      <td>0</td>\n",
       "      <td>0</td>\n",
       "      <td>0</td>\n",
       "      <td>0</td>\n",
       "    </tr>\n",
       "  </tbody>\n",
       "</table>\n",
       "</div>"
      ],
      "text/plain": [
       "       0     1    2   3  4\n",
       "0   4135  2016  262  24  2\n",
       "1    866   313   27   1  0\n",
       "2    385   140    7   0  0\n",
       "3    178    54    1   0  0\n",
       "4     92    18    0   0  0\n",
       "5     39     8    0   0  0\n",
       "6     11     1    0   0  0\n",
       "7      4     3    0   0  0\n",
       "8      2     1    0   0  0\n",
       "9      1     0    0   0  0\n",
       "10     1     0    0   0  0"
      ]
     },
     "execution_count": 74,
     "metadata": {},
     "output_type": "execute_result"
    }
   ],
   "source": [
    "kensei_int = [int(x) for x in kensei ]\n",
    "score_max = max(score)\n",
    "kensei_max = max(kensei_int)\n",
    "kensei_matrix = np.zeros([score_max+1,kensei_max+1],dtype = 'int32')\n",
    "for i,j in zip(kensei_int,score):\n",
    "    kensei_matrix[j,i] +=1\n",
    "df_kensei = pd.DataFrame(kensei_matrix)\n",
    "df_kensei"
   ]
  },
  {
   "cell_type": "code",
   "execution_count": 75,
   "metadata": {},
   "outputs": [
    {
     "data": {
      "text/plain": [
       "[<matplotlib.lines.Line2D at 0x122874c88>]"
      ]
     },
     "execution_count": 75,
     "metadata": {},
     "output_type": "execute_result"
    },
    {
     "data": {
      "image/png": "[encoded data removed]",
      "text/plain": [
       "<Figure size 432x288 with 1 Axes>"
      ]
     },
     "metadata": {},
     "output_type": "display_data"
    }
   ],
   "source": [
    "kensei_matrix_norm = np.zeros([len(kensei_matrix),len(kensei_matrix.T)])\n",
    "for i in range(len(kensei_matrix.T)):\n",
    "    kensei_matrix_norm[:,i] = kensei_matrix[:,i]/np.sum(kensei_matrix[:,i])\n",
    "df_kensei_norm = pd.DataFrame(kensei_matrix_norm)\n",
    "df_kensei_norm\n",
    "\n",
    "score_rate = []\n",
    "for i in range(len(kensei_matrix_norm.T)):\n",
    "    score_temp = 0\n",
    "    for j in range(len(kensei_matrix_norm)):\n",
    "        score_temp+=kensei_matrix_norm[j,i]*j\n",
    "    score_rate.append(score_temp)\n",
    "foul_list = np.arange(len(kensei_matrix_norm.T))\n",
    "plt.plot(foul_list,score_rate)"
   ]
  },
  {
   "cell_type": "code",
   "execution_count": null,
   "metadata": {},
   "outputs": [],
   "source": []
  }
 ],
 "metadata": {
  "kernelspec": {
   "display_name": "Python 3",
   "language": "python",
   "name": "python3"
  },
  "language_info": {
   "codemirror_mode": {
    "name": "ipython",
    "version": 3
   },
   "file_extension": ".py",
   "mimetype": "text/x-python",
   "name": "python",
   "nbconvert_exporter": "python",
   "pygments_lexer": "ipython3",
   "version": "3.6.6"
  }
 },
 "nbformat": 4,
 "nbformat_minor": 2
}
